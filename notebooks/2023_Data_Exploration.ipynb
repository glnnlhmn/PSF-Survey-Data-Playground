{
 "cells": [
  {
   "metadata": {},
   "cell_type": "markdown",
   "source": "# Data Exploration for 2023",
   "id": "655c950522dc3107"
  },
  {
   "cell_type": "code",
   "id": "initial_id",
   "metadata": {
    "collapsed": true,
    "ExecuteTime": {
     "end_time": "2024-10-30T17:54:23.676696Z",
     "start_time": "2024-10-30T17:54:23.652207Z"
    }
   },
   "source": [
    "# Importing necessary libraries\n",
    "import pandas as pd\n",
    "import matplotlib.pyplot as plt\n",
    "import seaborn as sns\n"
   ],
   "outputs": [],
   "execution_count": 15
  },
  {
   "metadata": {
    "ExecuteTime": {
     "end_time": "2024-10-30T17:54:59.015188Z",
     "start_time": "2024-10-30T17:54:55.415961Z"
    }
   },
   "cell_type": "code",
   "source": [
    "# Loading the dataset using the specified path and pyarrow dtype backend\n",
    "project_path = 'C:/Users/glenn/ws/PSF-Survey-Data-Playground/'\n",
    "file_path = 'data/2023/raw/'\n",
    "df = pd.read_csv(f'{project_path}{file_path}2023_sharing_data_outside.csv', dtype_backend=\"pyarrow\")"
   ],
   "id": "fe2031477666a2b5",
   "outputs": [],
   "execution_count": 16
  },
  {
   "metadata": {},
   "cell_type": "code",
   "source": [
    "# Displaying the first few rows of the dataframe\n",
    "df.head()"
   ],
   "id": "8b393c9b7e6451c7",
   "outputs": [],
   "execution_count": null
  },
  {
   "metadata": {},
   "cell_type": "code",
   "source": [
    "# Checking the shape of the dataframe\n",
    "df.shape"
   ],
   "id": "c8ac34b3ee42afd5",
   "outputs": [],
   "execution_count": null
  },
  {
   "metadata": {},
   "cell_type": "code",
   "source": [
    "# Checking the data types of the columns\n",
    "df.dtypes"
   ],
   "id": "3335d5ffdf843d5f",
   "outputs": [],
   "execution_count": null
  }
 ],
 "metadata": {
  "kernelspec": {
   "display_name": "Python 3",
   "language": "python",
   "name": "python3"
  },
  "language_info": {
   "codemirror_mode": {
    "name": "ipython",
    "version": 2
   },
   "file_extension": ".py",
   "mimetype": "text/x-python",
   "name": "python",
   "nbconvert_exporter": "python",
   "pygments_lexer": "ipython2",
   "version": "2.7.6"
  }
 },
 "nbformat": 4,
 "nbformat_minor": 5
}
